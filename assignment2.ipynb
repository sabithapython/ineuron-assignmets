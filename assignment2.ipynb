{
 "cells": [
  {
   "cell_type": "markdown",
   "metadata": {},
   "source": [
    "# Write a Python Program to implement your own myreduce() function which works exactly like Python's built-in function reduce()\n"
   ]
  },
  {
   "cell_type": "code",
   "execution_count": 49,
   "metadata": {},
   "outputs": [],
   "source": [
    "#creating a function to find the sum of numbers\n",
    "\n",
    "    \n",
    "'''myreduce function-\n",
    "reduce function takes two arguments, a function and an iterable,\n",
    "so defining myreduce function with two arguments'''\n",
    "\n",
    "def myreduce(function,iterable):\n",
    "    i = iter(iterable) # create an iterator object of iterable\n",
    "    \n",
    "# since reduce fucntion is an inline *accumulation* fucntion, that means we need to     \n",
    "# aggregate the values into a variable.so using total variable here\n",
    "    total = next(i)\n",
    "     \n",
    "    try:\n",
    "        for n in i:\n",
    "            total = function(total,n)# calling the function\n",
    "    except StopIteration:# program has to end at the end if iterable without exception\n",
    "        print(\"end\")\n",
    "    return total # returning the accumulated value from the myreduce function\n",
    "\n",
    "def summ(x,y):\n",
    "    return x+y\n",
    "\n",
    "# creating another function to find greatest number \n",
    "def greater(x,y):\n",
    "    if x > y:\n",
    "        return x\n",
    "    else:\n",
    "        return y"
   ]
  },
  {
   "cell_type": "code",
   "execution_count": 50,
   "metadata": {},
   "outputs": [
    {
     "name": "stdout",
     "output_type": "stream",
     "text": [
      "\n",
      "********SUM FUNCTION WITH LIST*********\n",
      "\n",
      "the out put of myreduce function is:\t 6\n",
      "the out put of in built reduce function is\t: 6\n",
      "\n",
      "********SUM FUNCTION WITH STRING*********\n",
      "\n",
      "the out put of myreduce function is:\t sabitha\n",
      "the out put of in built reduce function is\t: sabitha\n",
      "\n",
      "********SUM FUNCTION WITH RANGE*********\n",
      "\n",
      "the out put of myreduce function is:\t 10\n",
      "the out put of in built reduce function is\t: 10\n",
      "\n",
      "********GREATER FUNCTION WITH LIST*********\n",
      "\n",
      "the out put of myreduce function is:\t 3\n",
      "the out put of in built reduce function is\t: 3\n",
      "\n",
      "********GREATER FUNCTION WITH STRING*********\n",
      "\n",
      "the out put of myreduce function is:\t t\n",
      "the out put of in built reduce function is\t: t\n",
      "\n",
      "********GREATER FUNCTION WITH RANGE*********\n",
      "\n",
      "the out put of myreduce function is:\t 4\n",
      "the out put of in built reduce function is\t: 4\n"
     ]
    }
   ],
   "source": [
    "#executing and testing myreduce function against inbuilt reduce function\n",
    "\n",
    "from functools import reduce\n",
    "li=[1,2,3]\n",
    "print(\"\\n********SUM FUNCTION WITH LIST*********\\n\")\n",
    "print(\"the out put of myreduce function is:\\t\",myreduce(summ,li))\n",
    "print(\"the out put of in built reduce function is\\t:\",reduce(summ,li))\n",
    "\n",
    "print(\"\\n********SUM FUNCTION WITH STRING*********\\n\")\n",
    "print(\"the out put of myreduce function is:\\t\",myreduce(summ,'sabitha'))\n",
    "print(\"the out put of in built reduce function is\\t:\",reduce(summ,'sabitha'))\n",
    "\n",
    "print(\"\\n********SUM FUNCTION WITH RANGE*********\\n\")\n",
    "print(\"the out put of myreduce function is:\\t\",myreduce(summ,range(5)))\n",
    "print(\"the out put of in built reduce function is\\t:\",reduce(summ,range(5)))\n",
    "\n",
    "print(\"\\n********GREATER FUNCTION WITH LIST*********\\n\")\n",
    "print(\"the out put of myreduce function is:\\t\",myreduce(greater,li))\n",
    "print(\"the out put of in built reduce function is\\t:\",reduce(greater,li))\n",
    "\n",
    "print(\"\\n********GREATER FUNCTION WITH STRING*********\\n\")\n",
    "print(\"the out put of myreduce function is:\\t\",myreduce(greater,'sabitha'))\n",
    "print(\"the out put of in built reduce function is\\t:\",reduce(greater,'sabitha'))\n",
    "\n",
    "print(\"\\n********GREATER FUNCTION WITH RANGE*********\\n\")\n",
    "print(\"the out put of myreduce function is:\\t\",myreduce(greater,range(5)))\n",
    "print(\"the out put of in built reduce function is\\t:\",reduce(greater,range(5)))"
   ]
  },
  {
   "cell_type": "markdown",
   "metadata": {},
   "source": [
    "# Write a Python program to implement your own myfilter() function which works exactly like Python's built-in function filter()"
   ]
  },
  {
   "cell_type": "code",
   "execution_count": 60,
   "metadata": {},
   "outputs": [],
   "source": [
    "#creating a function to filter the even numbers\n",
    "\n",
    "\n",
    "'''myfilter function-\n",
    "reduce function takes two arguments, a function or a none and an iterable,\n",
    "so defining myfilter function with two arguments'''\n",
    "\n",
    "def myfilter(function,iterable):\n",
    "    i = iter(iterable) # create an iterator object of iterable\n",
    "    li=[] \n",
    "    \n",
    "    try:\n",
    "        for n in i:\n",
    "            if function == None:# when u pass None instead of a fucntion, it should only return True values of the original iterable\n",
    "                if bool(n) != False:\n",
    "                    li.append(n)\n",
    "               \n",
    "            else:\n",
    "                x=function(n)# calling the function\n",
    "                if bool(x) != False:\n",
    "                    li.append(x)# holding all true elements in list\n",
    "    except StopIteration:# program has to end at the end of iterable without exception\n",
    "        print(\"end\")\n",
    "    for val in li:\n",
    "      \n",
    "        yield val # returning object\n",
    "#*************************************************************************************************\n",
    "#creating a function to find even numbers        \n",
    "def even(x):\n",
    "    if x%2 == 0:\n",
    "        return x\n",
    "    \n",
    "#creating a function to find strings    \n",
    "def onlystrings(x):\n",
    "    if type(x)== str:\n",
    "        return x        "
   ]
  },
  {
   "cell_type": "code",
   "execution_count": 61,
   "metadata": {},
   "outputs": [
    {
     "name": "stdout",
     "output_type": "stream",
     "text": [
      "**************** EVEN NUMBERS IN A LIST**************\n",
      "\n",
      "the out put of myfilter function is:\t [2, 4]\n",
      "the out put of in built filter function is\t: [2, 4]\n",
      "\n",
      "**************** EVEN NUMBERS IN A range**************\n",
      "\n",
      "the out put of myfilter function is:\t [2, 4, 6, 8]\n",
      "the out put of in built filter function is\t: [2, 4, 6, 8]\n",
      "\n",
      "**************** PASSING NONE INSTEAD OF A FUNCTION FOR MYFILTER **************\n",
      "\n",
      "the out put of myfilter function is:\t [1, 2, 3, 4]\n",
      "the out put of in built filter function is\t: [1, 2, 3, 4]\n",
      "\n",
      "********FUNCTION TO RETURN ONLY STRING ELEMENTS *********\n",
      "\n",
      "the out put of myfilter function is:\t ['a', 's']\n",
      "the out put of in built filter function is\t: ['a', 's']\n"
     ]
    }
   ],
   "source": [
    "#executing and testing myfilter function against builtin filter function\n",
    "print(\"**************** EVEN NUMBERS IN A LIST**************\\n\")\n",
    "print(\"the out put of myfilter function is:\\t\",list(myfilter(even,[1,2,3,4])))\n",
    "print(\"the out put of in built filter function is\\t:\",list(filter(even,[1,2,3,4])))\n",
    "\n",
    "print(\"\\n**************** EVEN NUMBERS IN A range**************\\n\")\n",
    "print(\"the out put of myfilter function is:\\t\",list(myfilter(even,range(10))))\n",
    "print(\"the out put of in built filter function is\\t:\",list(filter(even,range(10))))\n",
    "\n",
    "print(\"\\n**************** PASSING NONE INSTEAD OF A FUNCTION FOR MYFILTER **************\\n\")\n",
    "print(\"the out put of myfilter function is:\\t\",list(myfilter(None,[1,0,2,3,4])))\n",
    "print(\"the out put of in built filter function is\\t:\",list(filter(None,[1,0,2,3,4])))\n",
    "\n",
    "print(\"\\n********FUNCTION TO RETURN ONLY STRING ELEMENTS *********\\n\")\n",
    "print(\"the out put of myfilter function is:\\t\",list(myfilter(onlystrings,[1,'a','','s',4])))\n",
    "print(\"the out put of in built filter function is\\t:\",list(filter(onlystrings,[1,'a','','s',4])))\n"
   ]
  },
  {
   "cell_type": "markdown",
   "metadata": {},
   "source": [
    "# Implement List comprehensions to produce the following lists.\n",
    "Write List comprehensions to produce the following Lists\n",
    "\n",
    "['A', 'C', 'A', 'D', 'G', 'I', ’L’, ‘ D’]\n",
    "\n",
    "['x', 'xx', 'xxx', 'xxxx', 'y', 'yy', 'yyy', 'yyyy', 'z', 'zz', 'zzz', 'zzzz']\n",
    "\n",
    "['x', 'y', 'z', 'xx', 'yy', 'zz', 'xx', 'yy', 'zz', 'xxxx', 'yyyy', 'zzzz']\n",
    "\n",
    "[[2], [3], [4], [3], [4], [5], [4], [5], [6]]\n",
    "\n",
    "[[2, 3, 4, 5], [3, 4, 5, 6], [4, 5, 6, 7], [5, 6, 7, 8]]\n",
    "\n",
    "[(1, 1), (2, 1), (3, 1), (1, 2), (2, 2), (3, 2), (1, 3), (2, 3), (3, 3)]"
   ]
  },
  {
   "cell_type": "code",
   "execution_count": 30,
   "metadata": {},
   "outputs": [
    {
     "name": "stdout",
     "output_type": "stream",
     "text": [
      "['A', 'C', 'A', 'D', 'G', 'I', 'L', 'D']\n",
      "['x', 'xx', 'xxx', 'xxxx', 'y', 'yy', 'yyy', 'yyyy', 'z', 'zz', 'zzz', 'zzzz']\n",
      "['x', 'y', 'z', 'xx', 'yy', 'zz', 'xxx', 'yyy', 'zzz', 'xxxx', 'yyyy', 'zzzz']\n",
      "[[2], [3], [4], [3], [4], [5], [4], [5], [6]]\n",
      "[[2, 3, 4, 5], [3, 4, 5, 6], [4, 5, 6, 7], [5, 6, 7, 8]]\n"
     ]
    },
    {
     "data": {
      "text/plain": [
       "[(1, 1), (2, 1), (3, 1), (1, 2), (2, 2), (3, 2), (1, 3), (2, 3), (3, 3)]"
      ]
     },
     "execution_count": 30,
     "metadata": {},
     "output_type": "execute_result"
    }
   ],
   "source": [
    "#1\n",
    "print([i.upper() for i in 'acadgild'])\n",
    "\n",
    "#2\n",
    "li=list('xyz')\n",
    "l=[]\n",
    "[l.append(li[i]*j) for i in range(len(li)) for j in range(1,5)]\n",
    "print(l)\n",
    "\n",
    "#3\n",
    "ls=[]\n",
    "[ls.append(li[i]*j) for j in range(1,5) for i in range(len(['x','y','z']))]\n",
    "print(ls)\n",
    "\n",
    "#4\n",
    "print([[i] for i in [2,3,4,3,4,5,4,5,6]])\n",
    "\n",
    "#5\n",
    "[k for i in range(2,6) for j in range(i,i+4)]\n",
    "print(k)\n",
    "\n",
    "#6\n",
    "[(j,i) for i in range(1,4) for j in range(1,4)]"
   ]
  },
  {
   "cell_type": "markdown",
   "metadata": {},
   "source": [
    "# Implement a function longestWord() that takes a list of words and returns the longest one"
   ]
  },
  {
   "cell_type": "code",
   "execution_count": 59,
   "metadata": {},
   "outputs": [
    {
     "data": {
      "text/plain": [
       "'sabitha'"
      ]
     },
     "execution_count": 59,
     "metadata": {},
     "output_type": "execute_result"
    }
   ],
   "source": [
    "def longestWord(l):\n",
    "    st=''      \n",
    "    for x, y in zip(l, l[1:]):\n",
    "        if len(x) > len(y):\n",
    "            st=x\n",
    "        else:\n",
    "            st=y\n",
    "    return st\n",
    "        \n",
    "longestWord(['sab','sabi','sabitha'])\n",
    "\n",
    "# another way is to use reduce function as it iterates by default\n",
    "# from functools import reduce\n",
    "\n",
    "# def long(x,y):\n",
    "#     if x > y:\n",
    "#         return x\n",
    "#     else:\n",
    "#         return y\n",
    "    \n",
    "# reduce(long,['sab','sabi','sabitha'])"
   ]
  },
  {
   "cell_type": "markdown",
   "metadata": {},
   "source": [
    "# Write a Python Program(with class concepts) to find the area of the triangle using the below\n",
    "formula.\n",
    "area = (s*(s-a)*(s-b)*(s-c)) ** 0.5\n",
    "Function to take the length of the sides of triangle from user should be defined in the parent\n",
    "class and function to calculate the area should be defined in subclass."
   ]
  },
  {
   "cell_type": "code",
   "execution_count": 34,
   "metadata": {},
   "outputs": [
    {
     "name": "stdout",
     "output_type": "stream",
     "text": [
      "area of the triangle is\t: 28.0\n"
     ]
    }
   ],
   "source": [
    "class A:\n",
    "    def __init__(self,a,b,c):\n",
    "        self._a=a\n",
    "        self._b=b\n",
    "        self._c=c\n",
    "    \n",
    "class B(A):\n",
    "    def __init__(self,a,b,c):\n",
    "        super().__init__(a,b,c)\n",
    "        self.s=(self._a+self._b+self._c)/2\n",
    "    def area(self):\n",
    "        c= self.s*(self.s-self._a)*(self.s-self._b)*(self.s-self._c) * 0.5\n",
    "        return c\n",
    "    \n",
    "    \n",
    "b = B(5,6,3)\n",
    "c= b.area()\n",
    "print(\"area of the triangle is\\t:\",c)\n",
    "        \n",
    "        "
   ]
  },
  {
   "cell_type": "markdown",
   "metadata": {},
   "source": [
    "# Write a function filter_long_words() that takes a list of words and an integer n and returns the list of words that are longer than n."
   ]
  },
  {
   "cell_type": "code",
   "execution_count": 35,
   "metadata": {},
   "outputs": [
    {
     "data": {
      "text/plain": [
       "['sabit', 'sabitha']"
      ]
     },
     "execution_count": 35,
     "metadata": {},
     "output_type": "execute_result"
    }
   ],
   "source": [
    "def filter_long_words(l,n):\n",
    "    li=[]\n",
    "    for i in l:\n",
    "        if len(i) > n:\n",
    "            li.append(i)\n",
    "    return li\n",
    "filter_long_words(['sab','sabi','sabit','sabitha'],4)"
   ]
  },
  {
   "cell_type": "markdown",
   "metadata": {},
   "source": [
    "# Write a Python program using function concept that maps list of words into a list of integers\n",
    "representing the lengths of the corresponding words .\n",
    "Hint: If a list [ ab,cde,erty] is passed on to the python function output should come as [2,3,4]\n",
    "Here 2,3 and 4 are the lengths of the words in the list."
   ]
  },
  {
   "cell_type": "code",
   "execution_count": 46,
   "metadata": {},
   "outputs": [
    {
     "data": {
      "text/plain": [
       "[2, 3, 4]"
      ]
     },
     "execution_count": 46,
     "metadata": {},
     "output_type": "execute_result"
    }
   ],
   "source": [
    "def length_of_words(l):\n",
    "    li=[]\n",
    "    for i in l:\n",
    "        li.append(len(i))\n",
    "    return li\n",
    "\n",
    "length_of_words(['ab','cde','erty'])"
   ]
  },
  {
   "cell_type": "markdown",
   "metadata": {},
   "source": [
    "# Write a Python function which takes a character (i.e. a string of length 1) and returns True if it is a vowel, False otherwise."
   ]
  },
  {
   "cell_type": "code",
   "execution_count": 48,
   "metadata": {},
   "outputs": [
    {
     "name": "stdout",
     "output_type": "stream",
     "text": [
      "enter a character\t:1\n"
     ]
    },
    {
     "data": {
      "text/plain": [
       "False"
      ]
     },
     "execution_count": 48,
     "metadata": {},
     "output_type": "execute_result"
    }
   ],
   "source": [
    "def isVowel(s):\n",
    "    l=['a','e','i','o','u']\n",
    "    for i in l:\n",
    "        if s == i:\n",
    "            return True\n",
    "        else:\n",
    "            return False\n",
    "       \n",
    "isVowel(input(\"enter a character\\t:\"))"
   ]
  },
  {
   "cell_type": "code",
   "execution_count": null,
   "metadata": {},
   "outputs": [],
   "source": []
  }
 ],
 "metadata": {
  "kernelspec": {
   "display_name": "Python 3",
   "language": "python",
   "name": "python3"
  },
  "language_info": {
   "codemirror_mode": {
    "name": "ipython",
    "version": 3
   },
   "file_extension": ".py",
   "mimetype": "text/x-python",
   "name": "python",
   "nbconvert_exporter": "python",
   "pygments_lexer": "ipython3",
   "version": "3.7.4"
  }
 },
 "nbformat": 4,
 "nbformat_minor": 2
}
